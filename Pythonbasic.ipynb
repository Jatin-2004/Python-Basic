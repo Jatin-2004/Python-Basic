{
  "nbformat": 4,
  "nbformat_minor": 0,
  "metadata": {
    "colab": {
      "provenance": []
    },
    "kernelspec": {
      "name": "python3",
      "display_name": "Python 3"
    },
    "language_info": {
      "name": "python"
    }
  },
  "cells": [
    {
      "cell_type": "markdown",
      "source": [
        "# 1. What is Python, and why is it popular?\n",
        "- Python is a programming language this is use for many type of purpose such as data analytics, artificial intelligence, and etc.\n",
        " It is popular because it is easy to use, it will run an any system such as mac, windows.\n",
        "#2. What is an interpreter in Python?\n",
        "- Python interpreter is a program that is read and apply python code line by line. Interpreter is easy to write, read and apply python code.\n",
        "#3. What are pre-defined keywords in Python?\n",
        "-  In Python pre-defined keywords are special meaning to use to define the syntax, variable and the form of the language. Ex- if, else, elif, True/False, def etc.\n",
        "#4. Can keywords be used as variable names?\n",
        "- No, keywords cannot be use as variable names in Python. When you useing it will give you Syntaxerror.\n",
        "#5. What is mutability in Python?\n",
        "- In Python, mutability means whether an object can be change or not.\n",
        "Mutable object can be changed.\n",
        "Immutable object cannot be changed.\n",
        "#6 Why are lists mutable, but tuples are immutable?\n",
        "- List - Can be changed because they are meant to be modified.\n",
        "  Tuples- Cannot be changed because they are meant to be constant.\n",
        "#7. What is the difference between “==” and “is” operators in Python?\n",
        "- \"==\" - checks for equal values.\n",
        "\"is\" - checks for the same object.\n",
        "#8. What are logical operators in Python?\n",
        "- In Python logical operators are \"and , or , not\"\n",
        "\"and\"- Return ture if both are true.\n",
        "\"or\" - Return true if one condition is True.\n",
        "\"not\" - Opposite conditions return.\n",
        "#9. What is type casting in Python?\n",
        "- Type casting in Python is convert one data type to another.\n",
        " - Converting string to integer. int(\"9\")\n",
        " - Converting integer to string. str(8)\n",
        "#10. What is the difference between implicit and exlicit type casting?\n",
        "- Implicit- Python is automatically convert one data to another.\n",
        "  Exlicit - You convert manually one data to another.\n",
        "#11. What is the purpose of conditinal statement in Python?\n",
        "- The purpose of conditional statements in Python is to control the flow of a program. They allow the program to make decisions and execute certain blocks of code only when specific conditions are true. In this way, the program can respond differently to different inputs or situations.\n",
        "\n",
        "#12.How does the elif statement work?\n",
        "- The elif statement in Python allows us to test multiple conditions without writing many separate if statements. Only the first True condition’s block is executed, and the rest are ignored.\n",
        "#13. What is the difference between for and while loops?\n",
        "- The 'for' loop is used when the number of iterations is known in advance, such as when iterating over a sequence (list, string, range, etc.).\n",
        "The 'while' loop is used when the number of iterations is not known and depends on a condition being true.\n",
        "#14. Describe a scenario where a while loop is more suitable than a for loop.\n",
        "- A while loop is more suitable when the number of iterations is not known in advance. For example, if a program keeps asking the user to enter the correct password until it is correct. In this case, the loop depends on a condition, not a fixed count, so while is better than for."
      ],
      "metadata": {
        "id": "gdtA9lqz1Hrg"
      }
    },
    {
      "cell_type": "markdown",
      "source": [
        "Practical Questions"
      ],
      "metadata": {
        "id": "PeRIQd0k_xeC"
      }
    },
    {
      "cell_type": "markdown",
      "source": [
        "1. Write a Python program to print \"Hello, World!\""
      ],
      "metadata": {
        "id": "hiF7kPC-_tiT"
      }
    },
    {
      "cell_type": "code",
      "execution_count": 1,
      "metadata": {
        "id": "Bbc50yg007oD",
        "colab": {
          "base_uri": "https://localhost:8080/"
        },
        "outputId": "a490266f-2741-4ce7-f335-be3981a27101"
      },
      "outputs": [
        {
          "output_type": "stream",
          "name": "stdout",
          "text": [
            "Hello,World!\n"
          ]
        }
      ],
      "source": [
        "print(\"Hello,World!\")"
      ]
    },
    {
      "cell_type": "markdown",
      "source": [
        "2. Write a pyhon program that deisplays your name and age."
      ],
      "metadata": {
        "id": "eJCVSAb8_v4r"
      }
    },
    {
      "cell_type": "code",
      "source": [
        "user_name = input(\"What is your name?\")\n",
        "user_age = input(\"How old are you?\")\n",
        "print(user_name)\n",
        "print(user_age)"
      ],
      "metadata": {
        "colab": {
          "base_uri": "https://localhost:8080/"
        },
        "id": "lu0pE5jSKCWr",
        "outputId": "6e65c69b-f154-4392-9e1a-6c3b706f21e5"
      },
      "execution_count": null,
      "outputs": [
        {
          "output_type": "stream",
          "name": "stdout",
          "text": [
            "What is your name?Jatin Prasad\n",
            "How old are you?21\n",
            "Jatin Prasad\n",
            "21\n"
          ]
        }
      ]
    },
    {
      "cell_type": "markdown",
      "source": [
        "3. Write code to print all the pre- defined keywords in Python using the keywords library."
      ],
      "metadata": {
        "id": "cLAcPSaW_3DM"
      }
    },
    {
      "cell_type": "code",
      "source": [
        "import keyword as kw\n",
        "keywords = kw.kwlist\n",
        "print(keywords)"
      ],
      "metadata": {
        "id": "k-FpKu3kKx8p",
        "colab": {
          "base_uri": "https://localhost:8080/"
        },
        "outputId": "85b9c440-ff56-4fea-e804-0126284fd542"
      },
      "execution_count": null,
      "outputs": [
        {
          "output_type": "stream",
          "name": "stdout",
          "text": [
            "['False', 'None', 'True', 'and', 'as', 'assert', 'async', 'await', 'break', 'class', 'continue', 'def', 'del', 'elif', 'else', 'except', 'finally', 'for', 'from', 'global', 'if', 'import', 'in', 'is', 'lambda', 'nonlocal', 'not', 'or', 'pass', 'raise', 'return', 'try', 'while', 'with', 'yield']\n"
          ]
        }
      ]
    },
    {
      "cell_type": "code",
      "source": [
        "print(type(keywords))"
      ],
      "metadata": {
        "colab": {
          "base_uri": "https://localhost:8080/"
        },
        "id": "mFWLHrl9V3n1",
        "outputId": "e3a4efcc-f060-409d-9a40-af8e17351475"
      },
      "execution_count": null,
      "outputs": [
        {
          "output_type": "stream",
          "name": "stdout",
          "text": [
            "<class 'list'>\n"
          ]
        }
      ]
    },
    {
      "cell_type": "markdown",
      "source": [
        "4. Write a program that checks if a given word is a Python keyword."
      ],
      "metadata": {
        "id": "4unRE09V_8SA"
      }
    },
    {
      "cell_type": "markdown",
      "source": [],
      "metadata": {
        "id": "ZP2caKnj_51V"
      }
    },
    {
      "cell_type": "code",
      "source": [
        "import keyword as kw\n",
        "word = input(\"Enter a word to check a Python keyword: \")\n",
        "if kw.iskeyword(word):\n",
        "    print(f\"{word} is a Python keyword.\")\n",
        "else:\n",
        "    print(f\"{word} is not a Python keyword.\")\n",
        "\n"
      ],
      "metadata": {
        "colab": {
          "base_uri": "https://localhost:8080/"
        },
        "id": "GJuEl6PZWBMB",
        "outputId": "dfb86f37-5d35-4776-e757-88c98df746c6"
      },
      "execution_count": null,
      "outputs": [
        {
          "output_type": "stream",
          "name": "stdout",
          "text": [
            "Enter a word to check a Python keyword: 26\n",
            "26 is not a Python keyword.\n"
          ]
        }
      ]
    },
    {
      "cell_type": "code",
      "source": [
        "import keyword as kw\n",
        "word = input(\"Enter a word to check a Python keyword: \")\n",
        "if kw.iskeyword(word):\n",
        "    print(f\"{word} is a Python keyword.\")\n",
        "else:\n",
        "    print(f\"{word} is not a Python keyword.\")\n"
      ],
      "metadata": {
        "colab": {
          "base_uri": "https://localhost:8080/"
        },
        "id": "w7qA3V8VYYS8",
        "outputId": "b06ceabd-5b83-44f7-8f26-f70145201700"
      },
      "execution_count": null,
      "outputs": [
        {
          "output_type": "stream",
          "name": "stdout",
          "text": [
            "Enter a word to check a Python keyword: else\n",
            "else is a Python keyword.\n"
          ]
        }
      ]
    },
    {
      "cell_type": "markdown",
      "source": [
        "5. Create a list and tuple in Python, and dimonstrate how attempting to change an element works differently for each."
      ],
      "metadata": {
        "id": "bCg7tSY6AA7a"
      }
    },
    {
      "cell_type": "code",
      "source": [
        "my_list = [15,25,35]\n",
        "my_tuple = (15,25,35)\n",
        "print(\"Original list:\", my_list)\n",
        "my_list[2]= 65\n",
        "print(\"Modified list:\", my_list)\n",
        "print(\"Original tuple:\", my_tuple)\n",
        "try:\n",
        "    my_tuple[1] = 65\n",
        "except TypeError as e:\n",
        "    print(\"Error when trying to modify tuple:\", e)"
      ],
      "metadata": {
        "colab": {
          "base_uri": "https://localhost:8080/"
        },
        "id": "fmNB_HOEdxsA",
        "outputId": "28f1b5ba-2e11-4428-8d35-005042bd22e8"
      },
      "execution_count": null,
      "outputs": [
        {
          "output_type": "stream",
          "name": "stdout",
          "text": [
            "Original list: [15, 25, 35]\n",
            "Modified list: [15, 25, 65]\n",
            "Original tuple: (15, 25, 35)\n",
            "Error when trying to modify tuple: 'tuple' object does not support item assignment\n"
          ]
        }
      ]
    },
    {
      "cell_type": "markdown",
      "source": [
        "# 6. Write a function to demostarate the behavior of mutable and immutable arguments."
      ],
      "metadata": {
        "id": "liqUakBoBGbj"
      }
    },
    {
      "cell_type": "code",
      "source": [
        "def modify_value (num, item):\n",
        "  num +=10\n",
        "  print(f\"Inside the function: num = {num}\")\n",
        "  item.append(100)\n",
        "  print(f\"Inside the function: item = {item}\")\n"
      ],
      "metadata": {
        "id": "kILtqfccfluC"
      },
      "execution_count": null,
      "outputs": []
    },
    {
      "cell_type": "code",
      "source": [
        "x = 1\n",
        "my_list = [1,2,3]\n",
        "modify_value(x, my_list)\n",
        "print(\"Before function call:\")\n",
        "print(f\"x: {x}\")\n",
        "print(f\"my_list: {my_list}\")\n",
        "modify_value(x, my_list)\n",
        "print(\"\\nAfter function call:\")\n",
        "print(f\"x: {x}\")\n",
        "print(f\"my_list: {my_list}\")"
      ],
      "metadata": {
        "id": "cuwCUpvBiD6z",
        "colab": {
          "base_uri": "https://localhost:8080/"
        },
        "outputId": "516c8d5b-3b3d-41dc-e63f-b628f416b71e"
      },
      "execution_count": null,
      "outputs": [
        {
          "output_type": "stream",
          "name": "stdout",
          "text": [
            "Inside the function: num = 11\n",
            "Inside the function: item = [1, 2, 3, 100]\n",
            "Before function call:\n",
            "x: 1\n",
            "my_list: [1, 2, 3, 100]\n",
            "Inside the function: num = 11\n",
            "Inside the function: item = [1, 2, 3, 100, 100]\n",
            "\n",
            "After function call:\n",
            "x: 1\n",
            "my_list: [1, 2, 3, 100, 100]\n"
          ]
        }
      ]
    },
    {
      "cell_type": "markdown",
      "source": [
        "7. Write a program that performs basic arithmetic operation on two user-input numbers."
      ],
      "metadata": {
        "id": "1nbUmHy3tLK0"
      }
    },
    {
      "cell_type": "code",
      "source": [
        "\n",
        "num1 = float(input(\"Enter first number: \"))\n",
        "num2 = float(input(\"Enter second number: \"))\n",
        "\n",
        "\n",
        "addition = num1 + num2\n",
        "subtraction = num1 - num2\n",
        "multiplication = num1 * num2\n",
        "\n",
        "if num2 != 0:\n",
        "    division = num1 / num2\n",
        "else:\n",
        "    division = \"Undefined (cannot divide by zero)\"\n",
        "\n",
        "\n",
        "print(\"\\nResults:\")\n",
        "print(f\"{num1} + {num2} = {addition}\")\n",
        "print(f\"{num1} - {num2} = {subtraction}\")\n",
        "print(f\"{num1} * {num2} = {multiplication}\")\n",
        "print(f\"{num1} / {num2} = {division}\")"
      ],
      "metadata": {
        "colab": {
          "base_uri": "https://localhost:8080/"
        },
        "id": "WUCDxXHceh73",
        "outputId": "c7dbbbce-0804-4041-a88f-8c3cbe6f09d3"
      },
      "execution_count": null,
      "outputs": [
        {
          "output_type": "stream",
          "name": "stdout",
          "text": [
            "Enter first number: 41\n",
            "Enter second number: 25\n",
            "\n",
            "Results:\n",
            "41.0 + 25.0 = 66.0\n",
            "41.0 - 25.0 = 16.0\n",
            "41.0 * 25.0 = 1025.0\n",
            "41.0 / 25.0 = 1.64\n"
          ]
        }
      ]
    },
    {
      "cell_type": "markdown",
      "source": [
        "8. Write a program to demonstrate the use of logical operators."
      ],
      "metadata": {
        "id": "VBFkon7izPoI"
      }
    },
    {
      "cell_type": "code",
      "source": [
        "a = int(input(\"Enter first number: \"))\n",
        "b = int(input(\"Enter second number: \"))\n",
        "if a > 0 and b > 0:\n",
        "  print(\"Both numbers are positive\")\n",
        "else:\n",
        "  print(\"Both numbers are not positive\")\n",
        "if a > 0 or b > 0:\n",
        "  print(\"At least one number is positive\")\n",
        "else:\n",
        "  print(\"neither number is positive.\")\n",
        "if not a > 0:\n",
        "  print(\"First number is not positive\")\n",
        "else:\n",
        "  print(\"First number is positive\")"
      ],
      "metadata": {
        "id": "PjUDtW8zwYb1",
        "colab": {
          "base_uri": "https://localhost:8080/"
        },
        "outputId": "e1c334db-2a31-420d-a95b-82ca41c79491"
      },
      "execution_count": null,
      "outputs": [
        {
          "output_type": "stream",
          "name": "stdout",
          "text": [
            "Enter first number: 71\n",
            "Enter second number: 71\n",
            "Both numbers are positive\n",
            "At least one number is positive\n",
            "First number is positive\n"
          ]
        }
      ]
    },
    {
      "cell_type": "markdown",
      "source": [
        "9. Write a Python program to convert user input from string to integer, float, and boolean types."
      ],
      "metadata": {
        "id": "J1_DcEok4CaY"
      }
    },
    {
      "cell_type": "code",
      "source": [
        "user_input = input(\"Enter a value: \")\n",
        "try:\n",
        "  int_value = int(user_input)\n",
        "  print(f\"Integer value: {int_value}\")\n",
        "except ValueError:\n",
        "  print(\"Cannot convert input to float\")\n",
        "try:\n",
        "  float_value = float(user_input)\n",
        "  print(f\"Float value: {float_value}\")\n",
        "except ValueError:\n",
        "  print(\"Cannot convert input to float\")\n",
        "try:\n",
        "  bool_value = bool(user_input)\n",
        "  print(f\"Boolean value: {bool_value}\")\n",
        "except ValueError:\n",
        "  print(\"Cannot convert input to boolean\")"
      ],
      "metadata": {
        "colab": {
          "base_uri": "https://localhost:8080/"
        },
        "id": "92sf-0cM3ckD",
        "outputId": "e9d17d9b-8ccc-4ab4-abb7-1dd24972ae66"
      },
      "execution_count": null,
      "outputs": [
        {
          "output_type": "stream",
          "name": "stdout",
          "text": [
            "Enter a value: 33\n",
            "Integer value: 33\n",
            "Float value: 33.0\n",
            "Boolean value: True\n"
          ]
        }
      ]
    },
    {
      "cell_type": "markdown",
      "source": [
        "10. Write code to demonstrate type casting with list elements."
      ],
      "metadata": {
        "id": "aCe5cvRU7vv2"
      }
    },
    {
      "cell_type": "code",
      "source": [
        "list = [\"10\",\"20\",\"True\",\"21.2\",\"44\",\"\"]\n",
        "print(\"Original list (string values):\", list)\n",
        "int_list = []\n",
        "for item in list:\n",
        "  try:\n",
        "    int_list.append(int(float(item)))\n",
        "  except ValueError:\n",
        "    int_list.append(None)\n",
        "    print(\"As intergers:\", int_list)\n",
        "float_list = []\n",
        "for item in list:\n",
        "  try:\n",
        "    float_list.append(float(item))\n",
        "  except ValueError:\n",
        "    float_list.append(None)\n",
        "    print(\"As floats:\", float_list)\n",
        "bool_list = [bool(item) for item in list]\n",
        "print(\"As booleans:\", bool_list)\n"
      ],
      "metadata": {
        "colab": {
          "base_uri": "https://localhost:8080/"
        },
        "id": "73i8j0Zf7Ln8",
        "outputId": "2b6b1aa6-4923-4d3c-abc3-5300286c115c"
      },
      "execution_count": null,
      "outputs": [
        {
          "output_type": "stream",
          "name": "stdout",
          "text": [
            "Original list (string values): ['10', '20', 'True', '21.2', '44', '']\n",
            "As intergers: [10, 20, None]\n",
            "As intergers: [10, 20, None, 21, 44, None]\n",
            "As floats: [10.0, 20.0, None]\n",
            "As floats: [10.0, 20.0, None, 21.2, 44.0, None]\n",
            "As booleans: [True, True, True, True, True, False]\n"
          ]
        }
      ]
    },
    {
      "cell_type": "markdown",
      "source": [
        "11. Write a program that checks if a number is positive, negative, or zero."
      ],
      "metadata": {
        "id": "5vVoE5K4_1VA"
      }
    },
    {
      "cell_type": "code",
      "source": [
        "num = float(input(\"Enter a number: \"))\n",
        "if num > 20:\n",
        "  print(\"The number is positive.\")\n",
        "elif num < 20:\n",
        "  print(\"The number is negative.\")\n",
        "else:\n",
        "  print(\"The number is zero.\")"
      ],
      "metadata": {
        "colab": {
          "base_uri": "https://localhost:8080/"
        },
        "id": "k0wOc3Dg_FV6",
        "outputId": "f023fc38-7ea9-4db9-ed29-c3844b452967"
      },
      "execution_count": null,
      "outputs": [
        {
          "output_type": "stream",
          "name": "stdout",
          "text": [
            "Enter a number: 25\n",
            "The number is positive.\n"
          ]
        }
      ]
    },
    {
      "cell_type": "markdown",
      "source": [
        "12. Write a for loop to print numbers from 1 to 10."
      ],
      "metadata": {
        "id": "SNW0Af2tCJ2o"
      }
    },
    {
      "cell_type": "code",
      "source": [
        "for i in range(1,11):\n",
        "  print(i)"
      ],
      "metadata": {
        "colab": {
          "base_uri": "https://localhost:8080/"
        },
        "id": "loRnh177BZZN",
        "outputId": "72a899bf-9c0b-4ee6-ec47-6a2b26a38b57"
      },
      "execution_count": null,
      "outputs": [
        {
          "output_type": "stream",
          "name": "stdout",
          "text": [
            "1\n",
            "2\n",
            "3\n",
            "4\n",
            "5\n",
            "6\n",
            "7\n",
            "8\n",
            "9\n",
            "10\n"
          ]
        }
      ]
    },
    {
      "cell_type": "markdown",
      "source": [
        "13. Wtite a Python program to find the sum of all even numbers between 1 and 50."
      ],
      "metadata": {
        "id": "UQTgXWbJC_en"
      }
    },
    {
      "cell_type": "code",
      "source": [
        "sum = 0\n",
        "for i in range(51):\n",
        "  if i % 2 == 0:\n",
        "    sum += i\n",
        "print(\"The sum of all even numbers between 1 and 50 is:\", sum)"
      ],
      "metadata": {
        "colab": {
          "base_uri": "https://localhost:8080/"
        },
        "id": "VSeBdnkqCe_B",
        "outputId": "8fa69b55-5159-4daa-cf68-0864ff217e5b"
      },
      "execution_count": null,
      "outputs": [
        {
          "output_type": "stream",
          "name": "stdout",
          "text": [
            "The sum of all even numbers between 1 and 50 is: 650\n"
          ]
        }
      ]
    },
    {
      "cell_type": "markdown",
      "source": [
        "14. Write a program to reverse a string using a while loop."
      ],
      "metadata": {
        "id": "IEcMkv9-EiCY"
      }
    },
    {
      "cell_type": "code",
      "source": [
        "text = \"hello\"\n",
        "reversed_text = \"\"\n",
        "index = len(text) - 1\n",
        "\n",
        "while index >= 0:\n",
        "    reversed_text += text[index]\n",
        "    index -= 1\n",
        "print(\"Reversed string:\", reversed_text)"
      ],
      "metadata": {
        "id": "sWS8mEHDT7GK",
        "colab": {
          "base_uri": "https://localhost:8080/"
        },
        "outputId": "381b23dd-5a18-451c-b07e-d4b0506558bd"
      },
      "execution_count": null,
      "outputs": [
        {
          "output_type": "stream",
          "name": "stdout",
          "text": [
            "Reversed string: olleh\n"
          ]
        }
      ]
    },
    {
      "cell_type": "markdown",
      "source": [
        "15. Write a Python program to calculate the factorial of a number provided by the user using a while loop."
      ],
      "metadata": {
        "id": "ZSaW0izHA9SE"
      }
    },
    {
      "cell_type": "code",
      "source": [
        "a=[1,2,3]\n",
        "b=a\n",
        "b.append(4)\n",
        "print(a,b)\n"
      ],
      "metadata": {
        "colab": {
          "base_uri": "https://localhost:8080/"
        },
        "id": "uEvCJ5slI21h",
        "outputId": "dab2ab10-26ab-4931-f42b-aabe8edc42c3"
      },
      "execution_count": 2,
      "outputs": [
        {
          "output_type": "stream",
          "name": "stdout",
          "text": [
            "[1, 2, 3, 4] [1, 2, 3, 4]\n"
          ]
        }
      ]
    },
    {
      "cell_type": "code",
      "source": [],
      "metadata": {
        "id": "DKoRviJDeSo7"
      },
      "execution_count": null,
      "outputs": []
    }
  ]
}